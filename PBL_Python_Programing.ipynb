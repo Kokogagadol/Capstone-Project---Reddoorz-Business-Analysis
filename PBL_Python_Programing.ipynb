{
  "cells": [
    {
      "cell_type": "markdown",
      "metadata": {
        "id": "view-in-github",
        "colab_type": "text"
      },
      "source": [
        "<a href=\"https://colab.research.google.com/github/Kokogagadol/Capstone-Project---Reddoorz-Business-Analysis/blob/main/PBL_Python_Programing.ipynb\" target=\"_parent\"><img src=\"https://colab.research.google.com/assets/colab-badge.svg\" alt=\"Open In Colab\"/></a>"
      ]
    },
    {
      "cell_type": "markdown",
      "metadata": {
        "id": "_pPxSjkjD6PJ"
      },
      "source": [
        "# **Preprocessing Data**\n",
        "\n",
        "\n",
        "---\n",
        "\n"
      ]
    },
    {
      "cell_type": "code",
      "execution_count": null,
      "metadata": {
        "id": "aOje38jY6AF3"
      },
      "outputs": [],
      "source": [
        "# Mengimport Library\n",
        "import pandas as pd\n",
        "import numpy as np\n",
        "import seaborn as sns\n",
        "import matplotlib.pyplot as plt\n"
      ]
    },
    {
      "cell_type": "code",
      "execution_count": null,
      "metadata": {
        "id": "1fjI9BzA6xoN"
      },
      "outputs": [],
      "source": [
        "# Mengimport Dataset yang diperlukan\n",
        "file_dataset = '/content/drive/MyDrive/Data Set - Reddoorz/Online Budget Hotel Dataset.xlsx'\n",
        "\n",
        "df_bookings = pd.read_excel(file_dataset, sheet_name= 'Bookings Table')\n",
        "df_user =  pd.read_excel(file_dataset, sheet_name= 'User Table')\n",
        "df_property =  pd.read_excel(file_dataset, sheet_name= 'Property Table')"
      ]
    },
    {
      "cell_type": "code",
      "execution_count": null,
      "metadata": {
        "colab": {
          "base_uri": "https://localhost:8080/"
        },
        "id": "MMSB4dni-DUV",
        "outputId": "ed927af8-6e68-4e0f-db46-bd2e24bcb782"
      },
      "outputs": [
        {
          "output_type": "stream",
          "name": "stdout",
          "text": [
            "Index(['BOOKING_ID', 'USER_ID', 'PROPERTY_CODE', 'BOOKING_DATE',\n",
            "       'CHECK_IN_DATE', 'CHECK_OUT_DATE', 'ROOMS', 'NIGHTS', 'ROOM_NIGHTS',\n",
            "       'REVENUE_DOLLAR'],\n",
            "      dtype='object')\n",
            "Index(['USER_ID', 'USER_TYPE', 'USER_GENDER', 'TRAVEL_PURPOSE', 'USER_AGE'], dtype='object')\n",
            "Index(['PROPERTY_CODE', 'CITY', 'DISTRICT', 'COHORT_DATE', 'BRAND_TYPE',\n",
            "       'INVENTORY'],\n",
            "      dtype='object')\n"
          ]
        }
      ],
      "source": [
        "print(df_bookings.columns)\n",
        "print(df_user.columns)\n",
        "print(df_property.columns)"
      ]
    },
    {
      "cell_type": "code",
      "execution_count": null,
      "metadata": {
        "colab": {
          "base_uri": "https://localhost:8080/",
          "height": 530
        },
        "id": "uqFGaqc-9ju9",
        "outputId": "f398b697-4edc-4485-bcfb-4889be8fe9e1"
      },
      "outputs": [
        {
          "output_type": "execute_result",
          "data": {
            "text/plain": [
              "            BOOKING_ID   USER_ID PROPERTY_CODE BOOKING_DATE CHECK_IN_DATE  \\\n",
              "0      942481721995472   2382984       MAL0084   2024-04-19    2024-04-19   \n",
              "1      859896400600792   8922581       SUR0320   2024-07-21    2024-07-22   \n",
              "2      863313142099180  11027905       SUR0381   2021-05-29    2021-06-05   \n",
              "3      815705055066134   6964446       BAN0082   2022-03-31    2022-04-05   \n",
              "4      257574986800513   1387674       BAN0482   2021-06-08    2021-06-14   \n",
              "...                ...       ...           ...          ...           ...   \n",
              "99995  263870338457116   5475762       BAN0418   2022-12-01    2022-12-01   \n",
              "99996  251752438976268   4459005       SUR0211   2021-09-12    2021-09-12   \n",
              "99997  240409361711285   7083729       BAN0462   2024-05-28    2024-06-03   \n",
              "99998  817444145850194  12469957       JAK0383   2020-06-16    2020-06-16   \n",
              "99999  433990401433964  13131427       YOG0375   2021-01-03    2021-01-03   \n",
              "\n",
              "      CHECK_OUT_DATE  ROOMS  NIGHTS  ROOM_NIGHTS  REVENUE_DOLLAR    USER_TYPE  \\\n",
              "0         2024-04-20      2       1            2           15.03     New User   \n",
              "1         2024-07-23      3       1            3           14.85  Repeat User   \n",
              "2         2021-06-06      1       1            1           17.88     New User   \n",
              "3         2022-04-07      1       3            3           27.92  Repeat User   \n",
              "4         2021-06-17      1       2            2           22.57     New User   \n",
              "...              ...    ...     ...          ...             ...          ...   \n",
              "99995     2022-12-02      3       1            3           18.24     New User   \n",
              "99996     2021-09-15      2       3            6           21.76  Repeat User   \n",
              "99997     2024-06-04      2       1            2           12.91  Repeat User   \n",
              "99998     2020-06-19      1       2            2           22.02     New User   \n",
              "99999     2021-01-06      2       1            2           29.59  Repeat User   \n",
              "\n",
              "      USER_GENDER TRAVEL_PURPOSE  USER_AGE        CITY DISTRICT COHORT_DATE  \\\n",
              "0          Female       Business        27      Malang    North  2020-05-04   \n",
              "1          Female       Business        21    Surabaya     West  2020-05-07   \n",
              "2            Male        Leisure        39    Surabaya     East  2021-08-03   \n",
              "3            Male        Leisure        56     Bandung     East  2021-07-13   \n",
              "4            Male        Leisure        47     Bandung     West  2024-05-28   \n",
              "...           ...            ...       ...         ...      ...         ...   \n",
              "99995        Male        Leisure        21     Bandung    North  2023-08-22   \n",
              "99996        Male       Business        30    Surabaya    South  2021-07-28   \n",
              "99997      Female        Leisure        59     Bandung     West  2022-03-08   \n",
              "99998      Female        Leisure        28     Jakarta    South  2021-08-02   \n",
              "99999        Male       Business        56  Yogyakarta     East  2022-10-22   \n",
              "\n",
              "       BRAND_TYPE  INVENTORY  \n",
              "0        Koolkost         55  \n",
              "1        RedDoorz         30  \n",
              "2      RedPartner         78  \n",
              "3        Koolkost         97  \n",
              "4        Koolkost         57  \n",
              "...           ...        ...  \n",
              "99995    Koolkost         28  \n",
              "99996    Koolkost         57  \n",
              "99997  RedPartner         82  \n",
              "99998    Koolkost         36  \n",
              "99999    RedDoorz         93  \n",
              "\n",
              "[100000 rows x 19 columns]"
            ],
            "text/html": [
              "\n",
              "  <div id=\"df-e5a8ec18-3f4b-4565-b29e-3559a9555467\" class=\"colab-df-container\">\n",
              "    <div>\n",
              "<style scoped>\n",
              "    .dataframe tbody tr th:only-of-type {\n",
              "        vertical-align: middle;\n",
              "    }\n",
              "\n",
              "    .dataframe tbody tr th {\n",
              "        vertical-align: top;\n",
              "    }\n",
              "\n",
              "    .dataframe thead th {\n",
              "        text-align: right;\n",
              "    }\n",
              "</style>\n",
              "<table border=\"1\" class=\"dataframe\">\n",
              "  <thead>\n",
              "    <tr style=\"text-align: right;\">\n",
              "      <th></th>\n",
              "      <th>BOOKING_ID</th>\n",
              "      <th>USER_ID</th>\n",
              "      <th>PROPERTY_CODE</th>\n",
              "      <th>BOOKING_DATE</th>\n",
              "      <th>CHECK_IN_DATE</th>\n",
              "      <th>CHECK_OUT_DATE</th>\n",
              "      <th>ROOMS</th>\n",
              "      <th>NIGHTS</th>\n",
              "      <th>ROOM_NIGHTS</th>\n",
              "      <th>REVENUE_DOLLAR</th>\n",
              "      <th>USER_TYPE</th>\n",
              "      <th>USER_GENDER</th>\n",
              "      <th>TRAVEL_PURPOSE</th>\n",
              "      <th>USER_AGE</th>\n",
              "      <th>CITY</th>\n",
              "      <th>DISTRICT</th>\n",
              "      <th>COHORT_DATE</th>\n",
              "      <th>BRAND_TYPE</th>\n",
              "      <th>INVENTORY</th>\n",
              "    </tr>\n",
              "  </thead>\n",
              "  <tbody>\n",
              "    <tr>\n",
              "      <th>0</th>\n",
              "      <td>942481721995472</td>\n",
              "      <td>2382984</td>\n",
              "      <td>MAL0084</td>\n",
              "      <td>2024-04-19</td>\n",
              "      <td>2024-04-19</td>\n",
              "      <td>2024-04-20</td>\n",
              "      <td>2</td>\n",
              "      <td>1</td>\n",
              "      <td>2</td>\n",
              "      <td>15.03</td>\n",
              "      <td>New User</td>\n",
              "      <td>Female</td>\n",
              "      <td>Business</td>\n",
              "      <td>27</td>\n",
              "      <td>Malang</td>\n",
              "      <td>North</td>\n",
              "      <td>2020-05-04</td>\n",
              "      <td>Koolkost</td>\n",
              "      <td>55</td>\n",
              "    </tr>\n",
              "    <tr>\n",
              "      <th>1</th>\n",
              "      <td>859896400600792</td>\n",
              "      <td>8922581</td>\n",
              "      <td>SUR0320</td>\n",
              "      <td>2024-07-21</td>\n",
              "      <td>2024-07-22</td>\n",
              "      <td>2024-07-23</td>\n",
              "      <td>3</td>\n",
              "      <td>1</td>\n",
              "      <td>3</td>\n",
              "      <td>14.85</td>\n",
              "      <td>Repeat User</td>\n",
              "      <td>Female</td>\n",
              "      <td>Business</td>\n",
              "      <td>21</td>\n",
              "      <td>Surabaya</td>\n",
              "      <td>West</td>\n",
              "      <td>2020-05-07</td>\n",
              "      <td>RedDoorz</td>\n",
              "      <td>30</td>\n",
              "    </tr>\n",
              "    <tr>\n",
              "      <th>2</th>\n",
              "      <td>863313142099180</td>\n",
              "      <td>11027905</td>\n",
              "      <td>SUR0381</td>\n",
              "      <td>2021-05-29</td>\n",
              "      <td>2021-06-05</td>\n",
              "      <td>2021-06-06</td>\n",
              "      <td>1</td>\n",
              "      <td>1</td>\n",
              "      <td>1</td>\n",
              "      <td>17.88</td>\n",
              "      <td>New User</td>\n",
              "      <td>Male</td>\n",
              "      <td>Leisure</td>\n",
              "      <td>39</td>\n",
              "      <td>Surabaya</td>\n",
              "      <td>East</td>\n",
              "      <td>2021-08-03</td>\n",
              "      <td>RedPartner</td>\n",
              "      <td>78</td>\n",
              "    </tr>\n",
              "    <tr>\n",
              "      <th>3</th>\n",
              "      <td>815705055066134</td>\n",
              "      <td>6964446</td>\n",
              "      <td>BAN0082</td>\n",
              "      <td>2022-03-31</td>\n",
              "      <td>2022-04-05</td>\n",
              "      <td>2022-04-07</td>\n",
              "      <td>1</td>\n",
              "      <td>3</td>\n",
              "      <td>3</td>\n",
              "      <td>27.92</td>\n",
              "      <td>Repeat User</td>\n",
              "      <td>Male</td>\n",
              "      <td>Leisure</td>\n",
              "      <td>56</td>\n",
              "      <td>Bandung</td>\n",
              "      <td>East</td>\n",
              "      <td>2021-07-13</td>\n",
              "      <td>Koolkost</td>\n",
              "      <td>97</td>\n",
              "    </tr>\n",
              "    <tr>\n",
              "      <th>4</th>\n",
              "      <td>257574986800513</td>\n",
              "      <td>1387674</td>\n",
              "      <td>BAN0482</td>\n",
              "      <td>2021-06-08</td>\n",
              "      <td>2021-06-14</td>\n",
              "      <td>2021-06-17</td>\n",
              "      <td>1</td>\n",
              "      <td>2</td>\n",
              "      <td>2</td>\n",
              "      <td>22.57</td>\n",
              "      <td>New User</td>\n",
              "      <td>Male</td>\n",
              "      <td>Leisure</td>\n",
              "      <td>47</td>\n",
              "      <td>Bandung</td>\n",
              "      <td>West</td>\n",
              "      <td>2024-05-28</td>\n",
              "      <td>Koolkost</td>\n",
              "      <td>57</td>\n",
              "    </tr>\n",
              "    <tr>\n",
              "      <th>...</th>\n",
              "      <td>...</td>\n",
              "      <td>...</td>\n",
              "      <td>...</td>\n",
              "      <td>...</td>\n",
              "      <td>...</td>\n",
              "      <td>...</td>\n",
              "      <td>...</td>\n",
              "      <td>...</td>\n",
              "      <td>...</td>\n",
              "      <td>...</td>\n",
              "      <td>...</td>\n",
              "      <td>...</td>\n",
              "      <td>...</td>\n",
              "      <td>...</td>\n",
              "      <td>...</td>\n",
              "      <td>...</td>\n",
              "      <td>...</td>\n",
              "      <td>...</td>\n",
              "      <td>...</td>\n",
              "    </tr>\n",
              "    <tr>\n",
              "      <th>99995</th>\n",
              "      <td>263870338457116</td>\n",
              "      <td>5475762</td>\n",
              "      <td>BAN0418</td>\n",
              "      <td>2022-12-01</td>\n",
              "      <td>2022-12-01</td>\n",
              "      <td>2022-12-02</td>\n",
              "      <td>3</td>\n",
              "      <td>1</td>\n",
              "      <td>3</td>\n",
              "      <td>18.24</td>\n",
              "      <td>New User</td>\n",
              "      <td>Male</td>\n",
              "      <td>Leisure</td>\n",
              "      <td>21</td>\n",
              "      <td>Bandung</td>\n",
              "      <td>North</td>\n",
              "      <td>2023-08-22</td>\n",
              "      <td>Koolkost</td>\n",
              "      <td>28</td>\n",
              "    </tr>\n",
              "    <tr>\n",
              "      <th>99996</th>\n",
              "      <td>251752438976268</td>\n",
              "      <td>4459005</td>\n",
              "      <td>SUR0211</td>\n",
              "      <td>2021-09-12</td>\n",
              "      <td>2021-09-12</td>\n",
              "      <td>2021-09-15</td>\n",
              "      <td>2</td>\n",
              "      <td>3</td>\n",
              "      <td>6</td>\n",
              "      <td>21.76</td>\n",
              "      <td>Repeat User</td>\n",
              "      <td>Male</td>\n",
              "      <td>Business</td>\n",
              "      <td>30</td>\n",
              "      <td>Surabaya</td>\n",
              "      <td>South</td>\n",
              "      <td>2021-07-28</td>\n",
              "      <td>Koolkost</td>\n",
              "      <td>57</td>\n",
              "    </tr>\n",
              "    <tr>\n",
              "      <th>99997</th>\n",
              "      <td>240409361711285</td>\n",
              "      <td>7083729</td>\n",
              "      <td>BAN0462</td>\n",
              "      <td>2024-05-28</td>\n",
              "      <td>2024-06-03</td>\n",
              "      <td>2024-06-04</td>\n",
              "      <td>2</td>\n",
              "      <td>1</td>\n",
              "      <td>2</td>\n",
              "      <td>12.91</td>\n",
              "      <td>Repeat User</td>\n",
              "      <td>Female</td>\n",
              "      <td>Leisure</td>\n",
              "      <td>59</td>\n",
              "      <td>Bandung</td>\n",
              "      <td>West</td>\n",
              "      <td>2022-03-08</td>\n",
              "      <td>RedPartner</td>\n",
              "      <td>82</td>\n",
              "    </tr>\n",
              "    <tr>\n",
              "      <th>99998</th>\n",
              "      <td>817444145850194</td>\n",
              "      <td>12469957</td>\n",
              "      <td>JAK0383</td>\n",
              "      <td>2020-06-16</td>\n",
              "      <td>2020-06-16</td>\n",
              "      <td>2020-06-19</td>\n",
              "      <td>1</td>\n",
              "      <td>2</td>\n",
              "      <td>2</td>\n",
              "      <td>22.02</td>\n",
              "      <td>New User</td>\n",
              "      <td>Female</td>\n",
              "      <td>Leisure</td>\n",
              "      <td>28</td>\n",
              "      <td>Jakarta</td>\n",
              "      <td>South</td>\n",
              "      <td>2021-08-02</td>\n",
              "      <td>Koolkost</td>\n",
              "      <td>36</td>\n",
              "    </tr>\n",
              "    <tr>\n",
              "      <th>99999</th>\n",
              "      <td>433990401433964</td>\n",
              "      <td>13131427</td>\n",
              "      <td>YOG0375</td>\n",
              "      <td>2021-01-03</td>\n",
              "      <td>2021-01-03</td>\n",
              "      <td>2021-01-06</td>\n",
              "      <td>2</td>\n",
              "      <td>1</td>\n",
              "      <td>2</td>\n",
              "      <td>29.59</td>\n",
              "      <td>Repeat User</td>\n",
              "      <td>Male</td>\n",
              "      <td>Business</td>\n",
              "      <td>56</td>\n",
              "      <td>Yogyakarta</td>\n",
              "      <td>East</td>\n",
              "      <td>2022-10-22</td>\n",
              "      <td>RedDoorz</td>\n",
              "      <td>93</td>\n",
              "    </tr>\n",
              "  </tbody>\n",
              "</table>\n",
              "<p>100000 rows × 19 columns</p>\n",
              "</div>\n",
              "    <div class=\"colab-df-buttons\">\n",
              "\n",
              "  <div class=\"colab-df-container\">\n",
              "    <button class=\"colab-df-convert\" onclick=\"convertToInteractive('df-e5a8ec18-3f4b-4565-b29e-3559a9555467')\"\n",
              "            title=\"Convert this dataframe to an interactive table.\"\n",
              "            style=\"display:none;\">\n",
              "\n",
              "  <svg xmlns=\"http://www.w3.org/2000/svg\" height=\"24px\" viewBox=\"0 -960 960 960\">\n",
              "    <path d=\"M120-120v-720h720v720H120Zm60-500h600v-160H180v160Zm220 220h160v-160H400v160Zm0 220h160v-160H400v160ZM180-400h160v-160H180v160Zm440 0h160v-160H620v160ZM180-180h160v-160H180v160Zm440 0h160v-160H620v160Z\"/>\n",
              "  </svg>\n",
              "    </button>\n",
              "\n",
              "  <style>\n",
              "    .colab-df-container {\n",
              "      display:flex;\n",
              "      gap: 12px;\n",
              "    }\n",
              "\n",
              "    .colab-df-convert {\n",
              "      background-color: #E8F0FE;\n",
              "      border: none;\n",
              "      border-radius: 50%;\n",
              "      cursor: pointer;\n",
              "      display: none;\n",
              "      fill: #1967D2;\n",
              "      height: 32px;\n",
              "      padding: 0 0 0 0;\n",
              "      width: 32px;\n",
              "    }\n",
              "\n",
              "    .colab-df-convert:hover {\n",
              "      background-color: #E2EBFA;\n",
              "      box-shadow: 0px 1px 2px rgba(60, 64, 67, 0.3), 0px 1px 3px 1px rgba(60, 64, 67, 0.15);\n",
              "      fill: #174EA6;\n",
              "    }\n",
              "\n",
              "    .colab-df-buttons div {\n",
              "      margin-bottom: 4px;\n",
              "    }\n",
              "\n",
              "    [theme=dark] .colab-df-convert {\n",
              "      background-color: #3B4455;\n",
              "      fill: #D2E3FC;\n",
              "    }\n",
              "\n",
              "    [theme=dark] .colab-df-convert:hover {\n",
              "      background-color: #434B5C;\n",
              "      box-shadow: 0px 1px 3px 1px rgba(0, 0, 0, 0.15);\n",
              "      filter: drop-shadow(0px 1px 2px rgba(0, 0, 0, 0.3));\n",
              "      fill: #FFFFFF;\n",
              "    }\n",
              "  </style>\n",
              "\n",
              "    <script>\n",
              "      const buttonEl =\n",
              "        document.querySelector('#df-e5a8ec18-3f4b-4565-b29e-3559a9555467 button.colab-df-convert');\n",
              "      buttonEl.style.display =\n",
              "        google.colab.kernel.accessAllowed ? 'block' : 'none';\n",
              "\n",
              "      async function convertToInteractive(key) {\n",
              "        const element = document.querySelector('#df-e5a8ec18-3f4b-4565-b29e-3559a9555467');\n",
              "        const dataTable =\n",
              "          await google.colab.kernel.invokeFunction('convertToInteractive',\n",
              "                                                    [key], {});\n",
              "        if (!dataTable) return;\n",
              "\n",
              "        const docLinkHtml = 'Like what you see? Visit the ' +\n",
              "          '<a target=\"_blank\" href=https://colab.research.google.com/notebooks/data_table.ipynb>data table notebook</a>'\n",
              "          + ' to learn more about interactive tables.';\n",
              "        element.innerHTML = '';\n",
              "        dataTable['output_type'] = 'display_data';\n",
              "        await google.colab.output.renderOutput(dataTable, element);\n",
              "        const docLink = document.createElement('div');\n",
              "        docLink.innerHTML = docLinkHtml;\n",
              "        element.appendChild(docLink);\n",
              "      }\n",
              "    </script>\n",
              "  </div>\n",
              "\n",
              "\n",
              "<div id=\"df-fc423a8c-6595-496e-8dcf-ba54dc252a45\">\n",
              "  <button class=\"colab-df-quickchart\" onclick=\"quickchart('df-fc423a8c-6595-496e-8dcf-ba54dc252a45')\"\n",
              "            title=\"Suggest charts\"\n",
              "            style=\"display:none;\">\n",
              "\n",
              "<svg xmlns=\"http://www.w3.org/2000/svg\" height=\"24px\"viewBox=\"0 0 24 24\"\n",
              "     width=\"24px\">\n",
              "    <g>\n",
              "        <path d=\"M19 3H5c-1.1 0-2 .9-2 2v14c0 1.1.9 2 2 2h14c1.1 0 2-.9 2-2V5c0-1.1-.9-2-2-2zM9 17H7v-7h2v7zm4 0h-2V7h2v10zm4 0h-2v-4h2v4z\"/>\n",
              "    </g>\n",
              "</svg>\n",
              "  </button>\n",
              "\n",
              "<style>\n",
              "  .colab-df-quickchart {\n",
              "      --bg-color: #E8F0FE;\n",
              "      --fill-color: #1967D2;\n",
              "      --hover-bg-color: #E2EBFA;\n",
              "      --hover-fill-color: #174EA6;\n",
              "      --disabled-fill-color: #AAA;\n",
              "      --disabled-bg-color: #DDD;\n",
              "  }\n",
              "\n",
              "  [theme=dark] .colab-df-quickchart {\n",
              "      --bg-color: #3B4455;\n",
              "      --fill-color: #D2E3FC;\n",
              "      --hover-bg-color: #434B5C;\n",
              "      --hover-fill-color: #FFFFFF;\n",
              "      --disabled-bg-color: #3B4455;\n",
              "      --disabled-fill-color: #666;\n",
              "  }\n",
              "\n",
              "  .colab-df-quickchart {\n",
              "    background-color: var(--bg-color);\n",
              "    border: none;\n",
              "    border-radius: 50%;\n",
              "    cursor: pointer;\n",
              "    display: none;\n",
              "    fill: var(--fill-color);\n",
              "    height: 32px;\n",
              "    padding: 0;\n",
              "    width: 32px;\n",
              "  }\n",
              "\n",
              "  .colab-df-quickchart:hover {\n",
              "    background-color: var(--hover-bg-color);\n",
              "    box-shadow: 0 1px 2px rgba(60, 64, 67, 0.3), 0 1px 3px 1px rgba(60, 64, 67, 0.15);\n",
              "    fill: var(--button-hover-fill-color);\n",
              "  }\n",
              "\n",
              "  .colab-df-quickchart-complete:disabled,\n",
              "  .colab-df-quickchart-complete:disabled:hover {\n",
              "    background-color: var(--disabled-bg-color);\n",
              "    fill: var(--disabled-fill-color);\n",
              "    box-shadow: none;\n",
              "  }\n",
              "\n",
              "  .colab-df-spinner {\n",
              "    border: 2px solid var(--fill-color);\n",
              "    border-color: transparent;\n",
              "    border-bottom-color: var(--fill-color);\n",
              "    animation:\n",
              "      spin 1s steps(1) infinite;\n",
              "  }\n",
              "\n",
              "  @keyframes spin {\n",
              "    0% {\n",
              "      border-color: transparent;\n",
              "      border-bottom-color: var(--fill-color);\n",
              "      border-left-color: var(--fill-color);\n",
              "    }\n",
              "    20% {\n",
              "      border-color: transparent;\n",
              "      border-left-color: var(--fill-color);\n",
              "      border-top-color: var(--fill-color);\n",
              "    }\n",
              "    30% {\n",
              "      border-color: transparent;\n",
              "      border-left-color: var(--fill-color);\n",
              "      border-top-color: var(--fill-color);\n",
              "      border-right-color: var(--fill-color);\n",
              "    }\n",
              "    40% {\n",
              "      border-color: transparent;\n",
              "      border-right-color: var(--fill-color);\n",
              "      border-top-color: var(--fill-color);\n",
              "    }\n",
              "    60% {\n",
              "      border-color: transparent;\n",
              "      border-right-color: var(--fill-color);\n",
              "    }\n",
              "    80% {\n",
              "      border-color: transparent;\n",
              "      border-right-color: var(--fill-color);\n",
              "      border-bottom-color: var(--fill-color);\n",
              "    }\n",
              "    90% {\n",
              "      border-color: transparent;\n",
              "      border-bottom-color: var(--fill-color);\n",
              "    }\n",
              "  }\n",
              "</style>\n",
              "\n",
              "  <script>\n",
              "    async function quickchart(key) {\n",
              "      const quickchartButtonEl =\n",
              "        document.querySelector('#' + key + ' button');\n",
              "      quickchartButtonEl.disabled = true;  // To prevent multiple clicks.\n",
              "      quickchartButtonEl.classList.add('colab-df-spinner');\n",
              "      try {\n",
              "        const charts = await google.colab.kernel.invokeFunction(\n",
              "            'suggestCharts', [key], {});\n",
              "      } catch (error) {\n",
              "        console.error('Error during call to suggestCharts:', error);\n",
              "      }\n",
              "      quickchartButtonEl.classList.remove('colab-df-spinner');\n",
              "      quickchartButtonEl.classList.add('colab-df-quickchart-complete');\n",
              "    }\n",
              "    (() => {\n",
              "      let quickchartButtonEl =\n",
              "        document.querySelector('#df-fc423a8c-6595-496e-8dcf-ba54dc252a45 button');\n",
              "      quickchartButtonEl.style.display =\n",
              "        google.colab.kernel.accessAllowed ? 'block' : 'none';\n",
              "    })();\n",
              "  </script>\n",
              "</div>\n",
              "\n",
              "  <div id=\"id_ee998af5-d224-4618-9f9a-203045270a28\">\n",
              "    <style>\n",
              "      .colab-df-generate {\n",
              "        background-color: #E8F0FE;\n",
              "        border: none;\n",
              "        border-radius: 50%;\n",
              "        cursor: pointer;\n",
              "        display: none;\n",
              "        fill: #1967D2;\n",
              "        height: 32px;\n",
              "        padding: 0 0 0 0;\n",
              "        width: 32px;\n",
              "      }\n",
              "\n",
              "      .colab-df-generate:hover {\n",
              "        background-color: #E2EBFA;\n",
              "        box-shadow: 0px 1px 2px rgba(60, 64, 67, 0.3), 0px 1px 3px 1px rgba(60, 64, 67, 0.15);\n",
              "        fill: #174EA6;\n",
              "      }\n",
              "\n",
              "      [theme=dark] .colab-df-generate {\n",
              "        background-color: #3B4455;\n",
              "        fill: #D2E3FC;\n",
              "      }\n",
              "\n",
              "      [theme=dark] .colab-df-generate:hover {\n",
              "        background-color: #434B5C;\n",
              "        box-shadow: 0px 1px 3px 1px rgba(0, 0, 0, 0.15);\n",
              "        filter: drop-shadow(0px 1px 2px rgba(0, 0, 0, 0.3));\n",
              "        fill: #FFFFFF;\n",
              "      }\n",
              "    </style>\n",
              "    <button class=\"colab-df-generate\" onclick=\"generateWithVariable('df')\"\n",
              "            title=\"Generate code using this dataframe.\"\n",
              "            style=\"display:none;\">\n",
              "\n",
              "  <svg xmlns=\"http://www.w3.org/2000/svg\" height=\"24px\"viewBox=\"0 0 24 24\"\n",
              "       width=\"24px\">\n",
              "    <path d=\"M7,19H8.4L18.45,9,17,7.55,7,17.6ZM5,21V16.75L18.45,3.32a2,2,0,0,1,2.83,0l1.4,1.43a1.91,1.91,0,0,1,.58,1.4,1.91,1.91,0,0,1-.58,1.4L9.25,21ZM18.45,9,17,7.55Zm-12,3A5.31,5.31,0,0,0,4.9,8.1,5.31,5.31,0,0,0,1,6.5,5.31,5.31,0,0,0,4.9,4.9,5.31,5.31,0,0,0,6.5,1,5.31,5.31,0,0,0,8.1,4.9,5.31,5.31,0,0,0,12,6.5,5.46,5.46,0,0,0,6.5,12Z\"/>\n",
              "  </svg>\n",
              "    </button>\n",
              "    <script>\n",
              "      (() => {\n",
              "      const buttonEl =\n",
              "        document.querySelector('#id_ee998af5-d224-4618-9f9a-203045270a28 button.colab-df-generate');\n",
              "      buttonEl.style.display =\n",
              "        google.colab.kernel.accessAllowed ? 'block' : 'none';\n",
              "\n",
              "      buttonEl.onclick = () => {\n",
              "        google.colab.notebook.generateWithVariable('df');\n",
              "      }\n",
              "      })();\n",
              "    </script>\n",
              "  </div>\n",
              "\n",
              "    </div>\n",
              "  </div>\n"
            ],
            "application/vnd.google.colaboratory.intrinsic+json": {
              "type": "dataframe",
              "variable_name": "df",
              "summary": "{\n  \"name\": \"df\",\n  \"rows\": 100000,\n  \"fields\": [\n    {\n      \"column\": \"BOOKING_ID\",\n      \"properties\": {\n        \"dtype\": \"number\",\n        \"std\": 259722533219635,\n        \"min\": 100006480506042,\n        \"max\": 999996483448420,\n        \"num_unique_values\": 100000,\n        \"samples\": [\n          163875573080375,\n          786835940811813,\n          620083335451359\n        ],\n        \"semantic_type\": \"\",\n        \"description\": \"\"\n      }\n    },\n    {\n      \"column\": \"USER_ID\",\n      \"properties\": {\n        \"dtype\": \"number\",\n        \"std\": 4038835,\n        \"min\": 1003743,\n        \"max\": 14997356,\n        \"num_unique_values\": 1000,\n        \"samples\": [\n          1865409,\n          14615261,\n          12027381\n        ],\n        \"semantic_type\": \"\",\n        \"description\": \"\"\n      }\n    },\n    {\n      \"column\": \"PROPERTY_CODE\",\n      \"properties\": {\n        \"dtype\": \"category\",\n        \"num_unique_values\": 500,\n        \"samples\": [\n          \"BAN0050\",\n          \"YOG0005\",\n          \"JAK0264\"\n        ],\n        \"semantic_type\": \"\",\n        \"description\": \"\"\n      }\n    },\n    {\n      \"column\": \"BOOKING_DATE\",\n      \"properties\": {\n        \"dtype\": \"date\",\n        \"min\": \"2020-01-01 00:00:00\",\n        \"max\": \"2024-09-30 00:00:00\",\n        \"num_unique_values\": 1735,\n        \"samples\": [\n          \"2023-08-07 00:00:00\",\n          \"2022-06-23 00:00:00\",\n          \"2023-12-06 00:00:00\"\n        ],\n        \"semantic_type\": \"\",\n        \"description\": \"\"\n      }\n    },\n    {\n      \"column\": \"CHECK_IN_DATE\",\n      \"properties\": {\n        \"dtype\": \"date\",\n        \"min\": \"2020-01-01 00:00:00\",\n        \"max\": \"2024-10-09 00:00:00\",\n        \"num_unique_values\": 1744,\n        \"samples\": [\n          \"2022-02-23 00:00:00\",\n          \"2020-05-13 00:00:00\",\n          \"2020-04-06 00:00:00\"\n        ],\n        \"semantic_type\": \"\",\n        \"description\": \"\"\n      }\n    },\n    {\n      \"column\": \"CHECK_OUT_DATE\",\n      \"properties\": {\n        \"dtype\": \"date\",\n        \"min\": \"2020-01-02 00:00:00\",\n        \"max\": \"2024-10-12 00:00:00\",\n        \"num_unique_values\": 1745,\n        \"samples\": [\n          \"2023-11-29 00:00:00\",\n          \"2024-02-04 00:00:00\",\n          \"2021-01-22 00:00:00\"\n        ],\n        \"semantic_type\": \"\",\n        \"description\": \"\"\n      }\n    },\n    {\n      \"column\": \"ROOMS\",\n      \"properties\": {\n        \"dtype\": \"number\",\n        \"std\": 0,\n        \"min\": 1,\n        \"max\": 3,\n        \"num_unique_values\": 3,\n        \"samples\": [\n          2,\n          3,\n          1\n        ],\n        \"semantic_type\": \"\",\n        \"description\": \"\"\n      }\n    },\n    {\n      \"column\": \"NIGHTS\",\n      \"properties\": {\n        \"dtype\": \"number\",\n        \"std\": 0,\n        \"min\": 1,\n        \"max\": 3,\n        \"num_unique_values\": 3,\n        \"samples\": [\n          1,\n          3,\n          2\n        ],\n        \"semantic_type\": \"\",\n        \"description\": \"\"\n      }\n    },\n    {\n      \"column\": \"ROOM_NIGHTS\",\n      \"properties\": {\n        \"dtype\": \"number\",\n        \"std\": 2,\n        \"min\": 1,\n        \"max\": 9,\n        \"num_unique_values\": 6,\n        \"samples\": [\n          2,\n          3,\n          6\n        ],\n        \"semantic_type\": \"\",\n        \"description\": \"\"\n      }\n    },\n    {\n      \"column\": \"REVENUE_DOLLAR\",\n      \"properties\": {\n        \"dtype\": \"number\",\n        \"std\": 5.779805047300646,\n        \"min\": 10.0,\n        \"max\": 30.0,\n        \"num_unique_values\": 2001,\n        \"samples\": [\n          28.39,\n          21.31,\n          17.57\n        ],\n        \"semantic_type\": \"\",\n        \"description\": \"\"\n      }\n    },\n    {\n      \"column\": \"USER_TYPE\",\n      \"properties\": {\n        \"dtype\": \"category\",\n        \"num_unique_values\": 2,\n        \"samples\": [\n          \"Repeat User\",\n          \"New User\"\n        ],\n        \"semantic_type\": \"\",\n        \"description\": \"\"\n      }\n    },\n    {\n      \"column\": \"USER_GENDER\",\n      \"properties\": {\n        \"dtype\": \"category\",\n        \"num_unique_values\": 2,\n        \"samples\": [\n          \"Male\",\n          \"Female\"\n        ],\n        \"semantic_type\": \"\",\n        \"description\": \"\"\n      }\n    },\n    {\n      \"column\": \"TRAVEL_PURPOSE\",\n      \"properties\": {\n        \"dtype\": \"category\",\n        \"num_unique_values\": 2,\n        \"samples\": [\n          \"Leisure\",\n          \"Business\"\n        ],\n        \"semantic_type\": \"\",\n        \"description\": \"\"\n      }\n    },\n    {\n      \"column\": \"USER_AGE\",\n      \"properties\": {\n        \"dtype\": \"number\",\n        \"std\": 11,\n        \"min\": 20,\n        \"max\": 60,\n        \"num_unique_values\": 41,\n        \"samples\": [\n          24,\n          55\n        ],\n        \"semantic_type\": \"\",\n        \"description\": \"\"\n      }\n    },\n    {\n      \"column\": \"CITY\",\n      \"properties\": {\n        \"dtype\": \"category\",\n        \"num_unique_values\": 5,\n        \"samples\": [\n          \"Surabaya\",\n          \"Jakarta\"\n        ],\n        \"semantic_type\": \"\",\n        \"description\": \"\"\n      }\n    },\n    {\n      \"column\": \"DISTRICT\",\n      \"properties\": {\n        \"dtype\": \"category\",\n        \"num_unique_values\": 5,\n        \"samples\": [\n          \"West\",\n          \"South\"\n        ],\n        \"semantic_type\": \"\",\n        \"description\": \"\"\n      }\n    },\n    {\n      \"column\": \"COHORT_DATE\",\n      \"properties\": {\n        \"dtype\": \"date\",\n        \"min\": \"2019-10-04 00:00:00\",\n        \"max\": \"2024-09-28 00:00:00\",\n        \"num_unique_values\": 446,\n        \"samples\": [\n          \"2022-12-16 00:00:00\",\n          \"2021-07-18 00:00:00\"\n        ],\n        \"semantic_type\": \"\",\n        \"description\": \"\"\n      }\n    },\n    {\n      \"column\": \"BRAND_TYPE\",\n      \"properties\": {\n        \"dtype\": \"category\",\n        \"num_unique_values\": 3,\n        \"samples\": [\n          \"Koolkost\",\n          \"RedDoorz\"\n        ],\n        \"semantic_type\": \"\",\n        \"description\": \"\"\n      }\n    },\n    {\n      \"column\": \"INVENTORY\",\n      \"properties\": {\n        \"dtype\": \"number\",\n        \"std\": 23,\n        \"min\": 20,\n        \"max\": 100,\n        \"num_unique_values\": 81,\n        \"samples\": [\n          94,\n          55\n        ],\n        \"semantic_type\": \"\",\n        \"description\": \"\"\n      }\n    }\n  ]\n}"
            }
          },
          "metadata": {},
          "execution_count": 4
        }
      ],
      "source": [
        "# Menggabungkan Dataset\n",
        "df = df_bookings.merge(df_user, how='left', on='USER_ID').merge(df_property, how='left', on='PROPERTY_CODE')\n",
        "df"
      ]
    },
    {
      "cell_type": "code",
      "execution_count": null,
      "metadata": {
        "colab": {
          "base_uri": "https://localhost:8080/"
        },
        "id": "fxrqiXqn-Uo0",
        "outputId": "546be266-bc0f-480e-e4eb-6576cb369cfc"
      },
      "outputs": [
        {
          "output_type": "stream",
          "name": "stdout",
          "text": [
            "<class 'pandas.core.frame.DataFrame'>\n",
            "RangeIndex: 100000 entries, 0 to 99999\n",
            "Data columns (total 19 columns):\n",
            " #   Column          Non-Null Count   Dtype         \n",
            "---  ------          --------------   -----         \n",
            " 0   BOOKING_ID      100000 non-null  int64         \n",
            " 1   USER_ID         100000 non-null  int64         \n",
            " 2   PROPERTY_CODE   100000 non-null  object        \n",
            " 3   BOOKING_DATE    100000 non-null  datetime64[ns]\n",
            " 4   CHECK_IN_DATE   100000 non-null  datetime64[ns]\n",
            " 5   CHECK_OUT_DATE  100000 non-null  datetime64[ns]\n",
            " 6   ROOMS           100000 non-null  int64         \n",
            " 7   NIGHTS          100000 non-null  int64         \n",
            " 8   ROOM_NIGHTS     100000 non-null  int64         \n",
            " 9   REVENUE_DOLLAR  100000 non-null  float64       \n",
            " 10  USER_TYPE       100000 non-null  object        \n",
            " 11  USER_GENDER     100000 non-null  object        \n",
            " 12  TRAVEL_PURPOSE  100000 non-null  object        \n",
            " 13  USER_AGE        100000 non-null  int64         \n",
            " 14  CITY            100000 non-null  object        \n",
            " 15  DISTRICT        100000 non-null  object        \n",
            " 16  COHORT_DATE     100000 non-null  datetime64[ns]\n",
            " 17  BRAND_TYPE      100000 non-null  object        \n",
            " 18  INVENTORY       100000 non-null  int64         \n",
            "dtypes: datetime64[ns](4), float64(1), int64(7), object(7)\n",
            "memory usage: 14.5+ MB\n"
          ]
        }
      ],
      "source": [
        "df.info()"
      ]
    },
    {
      "cell_type": "code",
      "execution_count": null,
      "metadata": {
        "colab": {
          "base_uri": "https://localhost:8080/"
        },
        "id": "iWMTLLIU_xB-",
        "outputId": "46cf5e07-a157-4caf-b47f-781f4325b15e"
      },
      "outputs": [
        {
          "output_type": "stream",
          "name": "stdout",
          "text": [
            "<class 'pandas.core.frame.DataFrame'>\n",
            "RangeIndex: 100000 entries, 0 to 99999\n",
            "Data columns (total 19 columns):\n",
            " #   Column          Non-Null Count   Dtype         \n",
            "---  ------          --------------   -----         \n",
            " 0   booking_id      100000 non-null  int64         \n",
            " 1   user_id         100000 non-null  int64         \n",
            " 2   property_code   100000 non-null  object        \n",
            " 3   booking_date    100000 non-null  datetime64[ns]\n",
            " 4   check_in_date   100000 non-null  datetime64[ns]\n",
            " 5   check_out_date  100000 non-null  datetime64[ns]\n",
            " 6   rooms           100000 non-null  int64         \n",
            " 7   nights          100000 non-null  int64         \n",
            " 8   room_nights     100000 non-null  int64         \n",
            " 9   revenue_dollar  100000 non-null  float64       \n",
            " 10  user_type       100000 non-null  object        \n",
            " 11  user_gender     100000 non-null  object        \n",
            " 12  travel_purpose  100000 non-null  object        \n",
            " 13  user_age        100000 non-null  int64         \n",
            " 14  city            100000 non-null  object        \n",
            " 15  district        100000 non-null  object        \n",
            " 16  cohort_date     100000 non-null  datetime64[ns]\n",
            " 17  brand_type      100000 non-null  object        \n",
            " 18  inventory       100000 non-null  int64         \n",
            "dtypes: datetime64[ns](4), float64(1), int64(7), object(7)\n",
            "memory usage: 14.5+ MB\n"
          ]
        }
      ],
      "source": [
        "# Mengubah nama-nama kolom menjadi lower\n",
        "df.columns = df.columns.str.lower()\n",
        "df.info()"
      ]
    },
    {
      "cell_type": "markdown",
      "metadata": {
        "id": "c9H7fHpODSda"
      },
      "source": [
        "Kami mengubah nama kolom menjadi lower case agar mudah untuk di panggil"
      ]
    },
    {
      "cell_type": "code",
      "execution_count": null,
      "metadata": {
        "colab": {
          "base_uri": "https://localhost:8080/"
        },
        "id": "FYJ5VmHh-iO8",
        "outputId": "ec5fbb0d-14c5-4582-ea92-4c824998091a"
      },
      "outputs": [
        {
          "output_type": "stream",
          "name": "stdout",
          "text": [
            "Jumlah Duplikasi Data : 0\n",
            "\n",
            "Jumlah Missing Value : \n",
            "booking_id        0\n",
            "user_id           0\n",
            "property_code     0\n",
            "booking_date      0\n",
            "check_in_date     0\n",
            "check_out_date    0\n",
            "rooms             0\n",
            "nights            0\n",
            "room_nights       0\n",
            "revenue_dollar    0\n",
            "user_type         0\n",
            "user_gender       0\n",
            "travel_purpose    0\n",
            "user_age          0\n",
            "city              0\n",
            "district          0\n",
            "cohort_date       0\n",
            "brand_type        0\n",
            "inventory         0\n",
            "dtype: int64\n"
          ]
        }
      ],
      "source": [
        "# Mengecek dan menghapus duplikasi data\n",
        "print(f'Jumlah Duplikasi Data : {df.duplicated().sum()}\\n')\n",
        "df = df.drop_duplicates()\n",
        "\n",
        "# Mengecek Missing Value\n",
        "print(f'Jumlah Missing Value : \\n{df.isna().sum()}')"
      ]
    },
    {
      "cell_type": "markdown",
      "metadata": {
        "id": "AnoJB-UoARSs"
      },
      "source": [
        "Setelah ketiga data digabungkan dilakukan pengecekan terhadap duplikasi dan missing value dan didapatkan data yang bersih artinya tidak ada duplikasi data dan missing value"
      ]
    },
    {
      "cell_type": "code",
      "execution_count": null,
      "metadata": {
        "colab": {
          "base_uri": "https://localhost:8080/",
          "height": 676
        },
        "id": "ozWUXzX0hv3s",
        "outputId": "d45ebfd8-21b1-446f-eb89-5198247e0f2e"
      },
      "outputs": [
        {
          "output_type": "display_data",
          "data": {
            "text/plain": [
              "<Figure size 1000x800 with 6 Axes>"
            ],
            "image/png": "[encoded data removed]"
          },
          "metadata": {}
        }
      ],
      "source": [
        "# Mengecek Outliers Pada Data\n",
        "df_to_plot = df.select_dtypes(include=('int64','float64'))\n",
        "df_to_plot = df_to_plot.drop(columns=['booking_id','user_id'])\n",
        "\n",
        "df_to_plot.plot(subplots=True, layout=(2,3), kind='box', figsize=(10,8), grid=True)\n",
        "plt.subplots_adjust()"
      ]
    },
    {
      "cell_type": "markdown",
      "metadata": {
        "id": "bfS7RcH0m21G"
      },
      "source": [
        "Setelah di lihat pada boxplot diatas tidak ditemukan pencilan data atau outliers pada features atau kolom-kolom yang bertipe numeric"
      ]
    },
    {
      "cell_type": "markdown",
      "metadata": {
        "id": "i8Gym9JODrSv"
      },
      "source": [
        "# **Exploratory Data Analysis**\n",
        "\n",
        "\n",
        "---\n",
        "\n"
      ]
    },
    {
      "cell_type": "markdown",
      "metadata": {
        "id": "5xDP_TC_EC6l"
      },
      "source": [
        "**1. Booking Duration and Booking Lead Time:**\n",
        "\n",
        "Extract new features from booking data related to the duration of stay and the lead time (the time between the booking date and check-in date).\n",
        "\n",
        "* Stay Duration: The difference (in days) between CHECK_OUT_DATE and CHECK_IN_DATE for each booking.\n",
        "\n",
        "* Lead Time: The difference (in days) between BOOKING_DATE and CHECK_IN_DATE.\n",
        "\n",
        "\n",
        "Visualize the distribution of both features:\n",
        "-\tThe Stay Duration to analyze how long customers tend to stay.\n",
        "-\tLead Time to observe how far in advance customers typically book.\n"
      ]
    },
    {
      "cell_type": "code",
      "execution_count": null,
      "metadata": {
        "id": "q0sdyCeS_KQ0"
      },
      "outputs": [],
      "source": [
        "# Menambahkan kolom baru (Stay duraion dan Lead Time)\n",
        "df['stay_duration'] =  (df['check_out_date']-df['check_in_date']).dt.days\n",
        "df['lead_time'] =  (df['check_in_date'] - df['booking_date']).dt.days"
      ]
    },
    {
      "cell_type": "code",
      "execution_count": null,
      "metadata": {
        "colab": {
          "base_uri": "https://localhost:8080/"
        },
        "id": "X-7moF9VFUCc",
        "outputId": "0d7b6771-af91-4124-fb37-6999b7461e5d"
      },
      "outputs": [
        {
          "output_type": "stream",
          "name": "stdout",
          "text": [
            "<class 'pandas.core.frame.DataFrame'>\n",
            "RangeIndex: 100000 entries, 0 to 99999\n",
            "Data columns (total 21 columns):\n",
            " #   Column          Non-Null Count   Dtype         \n",
            "---  ------          --------------   -----         \n",
            " 0   booking_id      100000 non-null  int64         \n",
            " 1   user_id         100000 non-null  int64         \n",
            " 2   property_code   100000 non-null  object        \n",
            " 3   booking_date    100000 non-null  datetime64[ns]\n",
            " 4   check_in_date   100000 non-null  datetime64[ns]\n",
            " 5   check_out_date  100000 non-null  datetime64[ns]\n",
            " 6   rooms           100000 non-null  int64         \n",
            " 7   nights          100000 non-null  int64         \n",
            " 8   room_nights     100000 non-null  int64         \n",
            " 9   revenue_dollar  100000 non-null  float64       \n",
            " 10  user_type       100000 non-null  object        \n",
            " 11  user_gender     100000 non-null  object        \n",
            " 12  travel_purpose  100000 non-null  object        \n",
            " 13  user_age        100000 non-null  int64         \n",
            " 14  city            100000 non-null  object        \n",
            " 15  district        100000 non-null  object        \n",
            " 16  cohort_date     100000 non-null  datetime64[ns]\n",
            " 17  brand_type      100000 non-null  object        \n",
            " 18  inventory       100000 non-null  int64         \n",
            " 19  stay_duration   100000 non-null  int64         \n",
            " 20  lead_time       100000 non-null  int64         \n",
            "dtypes: datetime64[ns](4), float64(1), int64(9), object(7)\n",
            "memory usage: 16.0+ MB\n"
          ]
        }
      ],
      "source": [
        "df.info()"
      ]
    },
    {
      "cell_type": "code",
      "execution_count": null,
      "metadata": {
        "colab": {
          "base_uri": "https://localhost:8080/",
          "height": 256
        },
        "id": "BzuPBEf7FV1O",
        "outputId": "792bf554-fea8-45ea-d117-658796469a61"
      },
      "outputs": [
        {
          "output_type": "execute_result",
          "data": {
            "text/plain": [
              "        booking_id   user_id property_code booking_date check_in_date  \\\n",
              "0  942481721995472   2382984       MAL0084   2024-04-19    2024-04-19   \n",
              "1  859896400600792   8922581       SUR0320   2024-07-21    2024-07-22   \n",
              "2  863313142099180  11027905       SUR0381   2021-05-29    2021-06-05   \n",
              "3  815705055066134   6964446       BAN0082   2022-03-31    2022-04-05   \n",
              "4  257574986800513   1387674       BAN0482   2021-06-08    2021-06-14   \n",
              "\n",
              "  check_out_date  rooms  nights  room_nights  revenue_dollar  ... user_gender  \\\n",
              "0     2024-04-20      2       1            2           15.03  ...      Female   \n",
              "1     2024-07-23      3       1            3           14.85  ...      Female   \n",
              "2     2021-06-06      1       1            1           17.88  ...        Male   \n",
              "3     2022-04-07      1       3            3           27.92  ...        Male   \n",
              "4     2021-06-17      1       2            2           22.57  ...        Male   \n",
              "\n",
              "  travel_purpose user_age      city district cohort_date  brand_type  \\\n",
              "0       Business       27    Malang    North  2020-05-04    Koolkost   \n",
              "1       Business       21  Surabaya     West  2020-05-07    RedDoorz   \n",
              "2        Leisure       39  Surabaya     East  2021-08-03  RedPartner   \n",
              "3        Leisure       56   Bandung     East  2021-07-13    Koolkost   \n",
              "4        Leisure       47   Bandung     West  2024-05-28    Koolkost   \n",
              "\n",
              "  inventory  stay_duration  lead_time  \n",
              "0        55              1          0  \n",
              "1        30              1          1  \n",
              "2        78              1          7  \n",
              "3        97              2          5  \n",
              "4        57              3          6  \n",
              "\n",
              "[5 rows x 21 columns]"
            ],
            "text/html": [
              "\n",
              "  <div id=\"df-ccd44928-9495-428c-aae7-3c7a95ad9679\" class=\"colab-df-container\">\n",
              "    <div>\n",
              "<style scoped>\n",
              "    .dataframe tbody tr th:only-of-type {\n",
              "        vertical-align: middle;\n",
              "    }\n",
              "\n",
              "    .dataframe tbody tr th {\n",
              "        vertical-align: top;\n",
              "    }\n",
              "\n",
              "    .dataframe thead th {\n",
              "        text-align: right;\n",
              "    }\n",
              "</style>\n",
              "<table border=\"1\" class=\"dataframe\">\n",
              "  <thead>\n",
              "    <tr style=\"text-align: right;\">\n",
              "      <th></th>\n",
              "      <th>booking_id</th>\n",
              "      <th>user_id</th>\n",
              "      <th>property_code</th>\n",
              "      <th>booking_date</th>\n",
              "      <th>check_in_date</th>\n",
              "      <th>check_out_date</th>\n",
              "      <th>rooms</th>\n",
              "      <th>nights</th>\n",
              "      <th>room_nights</th>\n",
              "      <th>revenue_dollar</th>\n",
              "      <th>...</th>\n",
              "      <th>user_gender</th>\n",
              "      <th>travel_purpose</th>\n",
              "      <th>user_age</th>\n",
              "      <th>city</th>\n",
              "      <th>district</th>\n",
              "      <th>cohort_date</th>\n",
              "      <th>brand_type</th>\n",
              "      <th>inventory</th>\n",
              "      <th>stay_duration</th>\n",
              "      <th>lead_time</th>\n",
              "    </tr>\n",
              "  </thead>\n",
              "  <tbody>\n",
              "    <tr>\n",
              "      <th>0</th>\n",
              "      <td>942481721995472</td>\n",
              "      <td>2382984</td>\n",
              "      <td>MAL0084</td>\n",
              "      <td>2024-04-19</td>\n",
              "      <td>2024-04-19</td>\n",
              "      <td>2024-04-20</td>\n",
              "      <td>2</td>\n",
              "      <td>1</td>\n",
              "      <td>2</td>\n",
              "      <td>15.03</td>\n",
              "      <td>...</td>\n",
              "      <td>Female</td>\n",
              "      <td>Business</td>\n",
              "      <td>27</td>\n",
              "      <td>Malang</td>\n",
              "      <td>North</td>\n",
              "      <td>2020-05-04</td>\n",
              "      <td>Koolkost</td>\n",
              "      <td>55</td>\n",
              "      <td>1</td>\n",
              "      <td>0</td>\n",
              "    </tr>\n",
              "    <tr>\n",
              "      <th>1</th>\n",
              "      <td>859896400600792</td>\n",
              "      <td>8922581</td>\n",
              "      <td>SUR0320</td>\n",
              "      <td>2024-07-21</td>\n",
              "      <td>2024-07-22</td>\n",
              "      <td>2024-07-23</td>\n",
              "      <td>3</td>\n",
              "      <td>1</td>\n",
              "      <td>3</td>\n",
              "      <td>14.85</td>\n",
              "      <td>...</td>\n",
              "      <td>Female</td>\n",
              "      <td>Business</td>\n",
              "      <td>21</td>\n",
              "      <td>Surabaya</td>\n",
              "      <td>West</td>\n",
              "      <td>2020-05-07</td>\n",
              "      <td>RedDoorz</td>\n",
              "      <td>30</td>\n",
              "      <td>1</td>\n",
              "      <td>1</td>\n",
              "    </tr>\n",
              "    <tr>\n",
              "      <th>2</th>\n",
              "      <td>863313142099180</td>\n",
              "      <td>11027905</td>\n",
              "      <td>SUR0381</td>\n",
              "      <td>2021-05-29</td>\n",
              "      <td>2021-06-05</td>\n",
              "      <td>2021-06-06</td>\n",
              "      <td>1</td>\n",
              "      <td>1</td>\n",
              "      <td>1</td>\n",
              "      <td>17.88</td>\n",
              "      <td>...</td>\n",
              "      <td>Male</td>\n",
              "      <td>Leisure</td>\n",
              "      <td>39</td>\n",
              "      <td>Surabaya</td>\n",
              "      <td>East</td>\n",
              "      <td>2021-08-03</td>\n",
              "      <td>RedPartner</td>\n",
              "      <td>78</td>\n",
              "      <td>1</td>\n",
              "      <td>7</td>\n",
              "    </tr>\n",
              "    <tr>\n",
              "      <th>3</th>\n",
              "      <td>815705055066134</td>\n",
              "      <td>6964446</td>\n",
              "      <td>BAN0082</td>\n",
              "      <td>2022-03-31</td>\n",
              "      <td>2022-04-05</td>\n",
              "      <td>2022-04-07</td>\n",
              "      <td>1</td>\n",
              "      <td>3</td>\n",
              "      <td>3</td>\n",
              "      <td>27.92</td>\n",
              "      <td>...</td>\n",
              "      <td>Male</td>\n",
              "      <td>Leisure</td>\n",
              "      <td>56</td>\n",
              "      <td>Bandung</td>\n",
              "      <td>East</td>\n",
              "      <td>2021-07-13</td>\n",
              "      <td>Koolkost</td>\n",
              "      <td>97</td>\n",
              "      <td>2</td>\n",
              "      <td>5</td>\n",
              "    </tr>\n",
              "    <tr>\n",
              "      <th>4</th>\n",
              "      <td>257574986800513</td>\n",
              "      <td>1387674</td>\n",
              "      <td>BAN0482</td>\n",
              "      <td>2021-06-08</td>\n",
              "      <td>2021-06-14</td>\n",
              "      <td>2021-06-17</td>\n",
              "      <td>1</td>\n",
              "      <td>2</td>\n",
              "      <td>2</td>\n",
              "      <td>22.57</td>\n",
              "      <td>...</td>\n",
              "      <td>Male</td>\n",
              "      <td>Leisure</td>\n",
              "      <td>47</td>\n",
              "      <td>Bandung</td>\n",
              "      <td>West</td>\n",
              "      <td>2024-05-28</td>\n",
              "      <td>Koolkost</td>\n",
              "      <td>57</td>\n",
              "      <td>3</td>\n",
              "      <td>6</td>\n",
              "    </tr>\n",
              "  </tbody>\n",
              "</table>\n",
              "<p>5 rows × 21 columns</p>\n",
              "</div>\n",
              "    <div class=\"colab-df-buttons\">\n",
              "\n",
              "  <div class=\"colab-df-container\">\n",
              "    <button class=\"colab-df-convert\" onclick=\"convertToInteractive('df-ccd44928-9495-428c-aae7-3c7a95ad9679')\"\n",
              "            title=\"Convert this dataframe to an interactive table.\"\n",
              "            style=\"display:none;\">\n",
              "\n",
              "  <svg xmlns=\"http://www.w3.org/2000/svg\" height=\"24px\" viewBox=\"0 -960 960 960\">\n",
              "    <path d=\"M120-120v-720h720v720H120Zm60-500h600v-160H180v160Zm220 220h160v-160H400v160Zm0 220h160v-160H400v160ZM180-400h160v-160H180v160Zm440 0h160v-160H620v160ZM180-180h160v-160H180v160Zm440 0h160v-160H620v160Z\"/>\n",
              "  </svg>\n",
              "    </button>\n",
              "\n",
              "  <style>\n",
              "    .colab-df-container {\n",
              "      display:flex;\n",
              "      gap: 12px;\n",
              "    }\n",
              "\n",
              "    .colab-df-convert {\n",
              "      background-color: #E8F0FE;\n",
              "      border: none;\n",
              "      border-radius: 50%;\n",
              "      cursor: pointer;\n",
              "      display: none;\n",
              "      fill: #1967D2;\n",
              "      height: 32px;\n",
              "      padding: 0 0 0 0;\n",
              "      width: 32px;\n",
              "    }\n",
              "\n",
              "    .colab-df-convert:hover {\n",
              "      background-color: #E2EBFA;\n",
              "      box-shadow: 0px 1px 2px rgba(60, 64, 67, 0.3), 0px 1px 3px 1px rgba(60, 64, 67, 0.15);\n",
              "      fill: #174EA6;\n",
              "    }\n",
              "\n",
              "    .colab-df-buttons div {\n",
              "      margin-bottom: 4px;\n",
              "    }\n",
              "\n",
              "    [theme=dark] .colab-df-convert {\n",
              "      background-color: #3B4455;\n",
              "      fill: #D2E3FC;\n",
              "    }\n",
              "\n",
              "    [theme=dark] .colab-df-convert:hover {\n",
              "      background-color: #434B5C;\n",
              "      box-shadow: 0px 1px 3px 1px rgba(0, 0, 0, 0.15);\n",
              "      filter: drop-shadow(0px 1px 2px rgba(0, 0, 0, 0.3));\n",
              "      fill: #FFFFFF;\n",
              "    }\n",
              "  </style>\n",
              "\n",
              "    <script>\n",
              "      const buttonEl =\n",
              "        document.querySelector('#df-ccd44928-9495-428c-aae7-3c7a95ad9679 button.colab-df-convert');\n",
              "      buttonEl.style.display =\n",
              "        google.colab.kernel.accessAllowed ? 'block' : 'none';\n",
              "\n",
              "      async function convertToInteractive(key) {\n",
              "        const element = document.querySelector('#df-ccd44928-9495-428c-aae7-3c7a95ad9679');\n",
              "        const dataTable =\n",
              "          await google.colab.kernel.invokeFunction('convertToInteractive',\n",
              "                                                    [key], {});\n",
              "        if (!dataTable) return;\n",
              "\n",
              "        const docLinkHtml = 'Like what you see? Visit the ' +\n",
              "          '<a target=\"_blank\" href=https://colab.research.google.com/notebooks/data_table.ipynb>data table notebook</a>'\n",
              "          + ' to learn more about interactive tables.';\n",
              "        element.innerHTML = '';\n",
              "        dataTable['output_type'] = 'display_data';\n",
              "        await google.colab.output.renderOutput(dataTable, element);\n",
              "        const docLink = document.createElement('div');\n",
              "        docLink.innerHTML = docLinkHtml;\n",
              "        element.appendChild(docLink);\n",
              "      }\n",
              "    </script>\n",
              "  </div>\n",
              "\n",
              "\n",
              "<div id=\"df-3a0f7356-fb69-4436-a3c5-81d88a5d4e89\">\n",
              "  <button class=\"colab-df-quickchart\" onclick=\"quickchart('df-3a0f7356-fb69-4436-a3c5-81d88a5d4e89')\"\n",
              "            title=\"Suggest charts\"\n",
              "            style=\"display:none;\">\n",
              "\n",
              "<svg xmlns=\"http://www.w3.org/2000/svg\" height=\"24px\"viewBox=\"0 0 24 24\"\n",
              "     width=\"24px\">\n",
              "    <g>\n",
              "        <path d=\"M19 3H5c-1.1 0-2 .9-2 2v14c0 1.1.9 2 2 2h14c1.1 0 2-.9 2-2V5c0-1.1-.9-2-2-2zM9 17H7v-7h2v7zm4 0h-2V7h2v10zm4 0h-2v-4h2v4z\"/>\n",
              "    </g>\n",
              "</svg>\n",
              "  </button>\n",
              "\n",
              "<style>\n",
              "  .colab-df-quickchart {\n",
              "      --bg-color: #E8F0FE;\n",
              "      --fill-color: #1967D2;\n",
              "      --hover-bg-color: #E2EBFA;\n",
              "      --hover-fill-color: #174EA6;\n",
              "      --disabled-fill-color: #AAA;\n",
              "      --disabled-bg-color: #DDD;\n",
              "  }\n",
              "\n",
              "  [theme=dark] .colab-df-quickchart {\n",
              "      --bg-color: #3B4455;\n",
              "      --fill-color: #D2E3FC;\n",
              "      --hover-bg-color: #434B5C;\n",
              "      --hover-fill-color: #FFFFFF;\n",
              "      --disabled-bg-color: #3B4455;\n",
              "      --disabled-fill-color: #666;\n",
              "  }\n",
              "\n",
              "  .colab-df-quickchart {\n",
              "    background-color: var(--bg-color);\n",
              "    border: none;\n",
              "    border-radius: 50%;\n",
              "    cursor: pointer;\n",
              "    display: none;\n",
              "    fill: var(--fill-color);\n",
              "    height: 32px;\n",
              "    padding: 0;\n",
              "    width: 32px;\n",
              "  }\n",
              "\n",
              "  .colab-df-quickchart:hover {\n",
              "    background-color: var(--hover-bg-color);\n",
              "    box-shadow: 0 1px 2px rgba(60, 64, 67, 0.3), 0 1px 3px 1px rgba(60, 64, 67, 0.15);\n",
              "    fill: var(--button-hover-fill-color);\n",
              "  }\n",
              "\n",
              "  .colab-df-quickchart-complete:disabled,\n",
              "  .colab-df-quickchart-complete:disabled:hover {\n",
              "    background-color: var(--disabled-bg-color);\n",
              "    fill: var(--disabled-fill-color);\n",
              "    box-shadow: none;\n",
              "  }\n",
              "\n",
              "  .colab-df-spinner {\n",
              "    border: 2px solid var(--fill-color);\n",
              "    border-color: transparent;\n",
              "    border-bottom-color: var(--fill-color);\n",
              "    animation:\n",
              "      spin 1s steps(1) infinite;\n",
              "  }\n",
              "\n",
              "  @keyframes spin {\n",
              "    0% {\n",
              "      border-color: transparent;\n",
              "      border-bottom-color: var(--fill-color);\n",
              "      border-left-color: var(--fill-color);\n",
              "    }\n",
              "    20% {\n",
              "      border-color: transparent;\n",
              "      border-left-color: var(--fill-color);\n",
              "      border-top-color: var(--fill-color);\n",
              "    }\n",
              "    30% {\n",
              "      border-color: transparent;\n",
              "      border-left-color: var(--fill-color);\n",
              "      border-top-color: var(--fill-color);\n",
              "      border-right-color: var(--fill-color);\n",
              "    }\n",
              "    40% {\n",
              "      border-color: transparent;\n",
              "      border-right-color: var(--fill-color);\n",
              "      border-top-color: var(--fill-color);\n",
              "    }\n",
              "    60% {\n",
              "      border-color: transparent;\n",
              "      border-right-color: var(--fill-color);\n",
              "    }\n",
              "    80% {\n",
              "      border-color: transparent;\n",
              "      border-right-color: var(--fill-color);\n",
              "      border-bottom-color: var(--fill-color);\n",
              "    }\n",
              "    90% {\n",
              "      border-color: transparent;\n",
              "      border-bottom-color: var(--fill-color);\n",
              "    }\n",
              "  }\n",
              "</style>\n",
              "\n",
              "  <script>\n",
              "    async function quickchart(key) {\n",
              "      const quickchartButtonEl =\n",
              "        document.querySelector('#' + key + ' button');\n",
              "      quickchartButtonEl.disabled = true;  // To prevent multiple clicks.\n",
              "      quickchartButtonEl.classList.add('colab-df-spinner');\n",
              "      try {\n",
              "        const charts = await google.colab.kernel.invokeFunction(\n",
              "            'suggestCharts', [key], {});\n",
              "      } catch (error) {\n",
              "        console.error('Error during call to suggestCharts:', error);\n",
              "      }\n",
              "      quickchartButtonEl.classList.remove('colab-df-spinner');\n",
              "      quickchartButtonEl.classList.add('colab-df-quickchart-complete');\n",
              "    }\n",
              "    (() => {\n",
              "      let quickchartButtonEl =\n",
              "        document.querySelector('#df-3a0f7356-fb69-4436-a3c5-81d88a5d4e89 button');\n",
              "      quickchartButtonEl.style.display =\n",
              "        google.colab.kernel.accessAllowed ? 'block' : 'none';\n",
              "    })();\n",
              "  </script>\n",
              "</div>\n",
              "\n",
              "    </div>\n",
              "  </div>\n"
            ],
            "application/vnd.google.colaboratory.intrinsic+json": {
              "type": "dataframe",
              "variable_name": "df"
            }
          },
          "metadata": {},
          "execution_count": 11
        }
      ],
      "source": [
        "df.head()"
      ]
    },
    {
      "cell_type": "code",
      "execution_count": null,
      "metadata": {
        "colab": {
          "base_uri": "https://localhost:8080/",
          "height": 962
        },
        "id": "PnYMH6nKHy0p",
        "outputId": "48eb32f9-806b-4d71-fafa-ef010691a81f"
      },
      "outputs": [
        {
          "output_type": "display_data",
          "data": {
            "text/plain": [
              "<Figure size 640x480 with 1 Axes>"
            ],
            "image/png": "[encoded data removed]"
          },
          "metadata": {}
        },
        {
          "output_type": "stream",
          "name": "stdout",
          "text": [
            "\n",
            "\n"
          ]
        },
        {
          "output_type": "display_data",
          "data": {
            "text/plain": [
              "<Figure size 640x480 with 1 Axes>"
            ],
            "image/png": "[encoded data removed]"
          },
          "metadata": {}
        }
      ],
      "source": [
        "# Visualisasi Distribusi data Stay Duration dan Lead Time\n",
        "sns.histplot(data=df, x='stay_duration', kde=True)\n",
        "plt.title('Distibution of Stay Duration')\n",
        "plt.xlabel('Stay Duration (Days)')\n",
        "plt.ylabel('Frequency')\n",
        "plt.xticks([1,2,3])\n",
        "plt.grid()\n",
        "plt.show()\n",
        "\n",
        "print('\\n')\n",
        "\n",
        "sns.histplot(data=df,bins=20, x='lead_time', kde=True)\n",
        "plt.title('Distribution of Lead Time')\n",
        "plt.xlabel('Lead Time (Days)')\n",
        "plt.ylabel('Frequency')\n",
        "plt.xticks([0,1,2,3,4,5,6,7,8,9])\n",
        "plt.grid()\n",
        "plt.show()"
      ]
    },
    {
      "cell_type": "markdown",
      "metadata": {
        "id": "U6rE5gyYLsFv"
      },
      "source": [
        "\n",
        "*   **Stay Duration :** Dalam grafik di atas bisa dilihat bahwa untuk sebaran waktu menginap atau lamanya pelanggan menginap adalah sebanyak 1, 2 dan 3 hari dengan jumlah pemesanan yang lumayan merata diatas 30 ribu pemesanan\n",
        "*   **Lead Time:** Sedangkan untuk lamanya waktu tunggu pelanggan dari waktu booking ke check in berjarak antara 0 hari sampai dengan 9 hari tetapi kebanyakan para customer melakuan booking serta check in dilakukan di hari yang sama artinya mereka tidak memiliki waktu tunggu. Distribusi pemesanan yang tidak memiliki waktu tunggu atau lead timenya 0 adalah sebanyak 35 ribu lebih pemesanan atau 35% dari jumlah pemesanan. Untuk jumlah pemesanan dengan waktu tunggu terlama yaitu 9 hari dengan jumlah dibawah 5 ribu pemesanan dengan persentasenya sebesar 0,91%\n",
        "\n",
        "\n",
        "\n",
        "---\n",
        "\n",
        "\n"
      ]
    },
    {
      "cell_type": "markdown",
      "metadata": {
        "id": "xI76BkhPPgdE"
      },
      "source": [
        "**2. Revenue per Night and Booking Revenue Features:**\n",
        "\n",
        "Extract and analyze new features related to revenue, such as Revenue per Night and Total Booking Revenue.\n",
        "\n",
        "* Revenue per Night by dividing the total booking revenue (REVENUE_DOLLAR) by the number of room nights (ROOM_NIGHTS).\n",
        "* Total Booking Revenue by grouping the dataset by USER_ID and summing up the total revenue for each customer.\n",
        "\n",
        "Show the top 10 customers in terms of Total Booking Revenue.\n"
      ]
    },
    {
      "cell_type": "code",
      "execution_count": null,
      "metadata": {
        "colab": {
          "base_uri": "https://localhost:8080/",
          "height": 736
        },
        "id": "vjK-ITFTJTL1",
        "outputId": "956dfa62-e159-4fcc-9ed1-51c9a5334a2b"
      },
      "outputs": [
        {
          "output_type": "stream",
          "name": "stdout",
          "text": [
            "   user_id  total_booking_revenue\n",
            "0  6534621                2708.86\n",
            "1  7818238                2651.86\n",
            "2  6742780                2596.37\n",
            "3  2797960                2584.47\n",
            "4  1060239                2548.25\n",
            "5  1066789                2545.37\n",
            "6  1387674                2544.78\n",
            "7  1654979                2530.24\n",
            "8  9726170                2524.71\n",
            "9  3711707                2523.20 \n",
            "\n"
          ]
        },
        {
          "output_type": "display_data",
          "data": {
            "text/plain": [
              "<Figure size 1000x500 with 1 Axes>"
            ],
            "image/png": "[encoded data removed]"
          },
          "metadata": {}
        }
      ],
      "source": [
        "# Menambahkan Kolom baru (Revenue per Night dan Total Booking Revenue)\n",
        "df['revenue_per_night'] = df['revenue_dollar'] / df['room_nights']\n",
        "df['total_booking_revenue'] = df.groupby('user_id')['revenue_dollar'].transform('sum')\n",
        "\n",
        "# Menampilkan 10 Customer dengan Total Booking Revenue Tertinggi\n",
        "top_10_customers = df[['user_id','total_booking_revenue']].drop_duplicates().sort_values(by='total_booking_revenue', ascending=False).head(10).reset_index(drop=True)\n",
        "print(top_10_customers,'\\n')\n",
        "\n",
        "# Visualisasi 10 Customer dengan total booking revenue tertinggi\n",
        "plt.figure(figsize=(10,5))\n",
        "sns.barplot(x='user_id',y='total_booking_revenue', data=top_10_customers, palette='Blues',order=top_10_customers['user_id'],hue='total_booking_revenue',dodge=False)\n",
        "plt.title('Top 10 Customers in Terms of Total Booking Revenue', fontsize=14, fontweight=10)\n",
        "plt.xlabel('User ID')\n",
        "plt.xticks(rotation=45)\n",
        "plt.ylabel('Total Booking Revenue')\n",
        "plt.legend([], [], frameon=False)\n",
        "plt.show()\n"
      ]
    },
    {
      "cell_type": "code",
      "execution_count": null,
      "metadata": {
        "colab": {
          "base_uri": "https://localhost:8080/"
        },
        "id": "jBAGYjdQoJPg",
        "outputId": "0799bfd5-69ce-4e40-c4c1-cb072c907657"
      },
      "outputs": [
        {
          "output_type": "stream",
          "name": "stdout",
          "text": [
            "user_id                   6534621\n",
            "user_gender                Female\n",
            "user_age                       58\n",
            "total_booking_revenue     2708.86\n",
            "city                      Jakarta\n",
            "stay_duration                   2\n",
            "travel_purpose           Business\n",
            "Name: 0, dtype: object\n"
          ]
        }
      ],
      "source": [
        "profil_customer = df[['user_id','user_gender','user_age','total_booking_revenue','city','stay_duration','travel_purpose']].drop_duplicates().sort_values(by='total_booking_revenue', ascending=False).head(1).reset_index(drop=True)\n",
        "print(profil_customer.loc[0])"
      ]
    },
    {
      "cell_type": "markdown",
      "metadata": {
        "id": "-rpVvxN0YKgm"
      },
      "source": [
        "Di atas merupakan total pendapatan booking tertinggi dari 10 pelanggan. Pelanggan dengan user Id 6534621 merupakan yang paling tinggi dibandingkang dengan user yang lain dalam hal kontribusi terhadap revenue booking dimana user tersebut bergender perempuan yang berasal dari kota Jakarta dengan durasi menginap selama 2 hari adapaun tujuan menginap dari user tersebut adalah kepentingan bisnis\n",
        "\n",
        "---\n",
        "\n"
      ]
    },
    {
      "cell_type": "markdown",
      "metadata": {
        "id": "loS_v2B3Y4xu"
      },
      "source": [
        "**3. Property Performance and Occupancy Rate:**\n",
        "\n",
        "Calculate and visualize new features related to\n",
        "\n",
        "* Property Occupancy Rate\n",
        "* Total Revenue per Property.\n",
        "\n",
        "Occupancy Rate =(Total Room Nights Booked) / (Inventory x Days Active)  \n",
        "\n",
        "where \"Days Active\" is the difference between CHECK_IN_DATE and COHORT_DATE (from the Property Table).\n",
        "\n",
        "Show the Occupancy Rate for the top 10 properties and the correlation between Occupancy Rate and Total Revenue per Property.\n",
        "\n"
      ]
    },
    {
      "cell_type": "code",
      "execution_count": null,
      "metadata": {
        "id": "oYdk04MuvzXt"
      },
      "outputs": [],
      "source": [
        "# Membuat Kolom Baru Days Active\n",
        "df['days_active'] = (df['check_in_date'] - df['cohort_date']).dt.days\n",
        "\n",
        "# # Menambakan kolom baru Occupancy Rate\n",
        "df['occupancy_rate'] = df['room_nights'] / (df['inventory'] * df['days_active'])\n",
        "\n",
        "# Melakukna Pengkondisian Apabila Hari Aktif nol atau negatif untuk menghindari kesalahan pembagian\n",
        "df.loc[df['days_active'] <= 0, 'occupancy_rate'] = 0\n",
        "\n",
        "# Menambahkan Kolom Baru Total Revenue Per Property\n",
        "total_revenue_per_property = df.groupby('property_code')['total_booking_revenue'].sum()\n",
        "df = df.merge(total_revenue_per_property.rename('total_revenue_per_property'),\n",
        "                  on='property_code')"
      ]
    },
    {
      "cell_type": "code",
      "execution_count": null,
      "metadata": {
        "colab": {
          "base_uri": "https://localhost:8080/",
          "height": 814
        },
        "id": "al6aC3T-97x5",
        "outputId": "71c61ba1-cec1-4e61-eff2-a402ccfb6103"
      },
      "outputs": [
        {
          "output_type": "stream",
          "name": "stdout",
          "text": [
            "  property_code  occupancy_rate\n",
            "0       JAK0304        0.250000\n",
            "1       MAL0499        0.230769\n",
            "2       MAL0217        0.225000\n",
            "3       YOG0431        0.214286\n",
            "4       SUR0287        0.200000\n",
            "5       BAN0229        0.150000\n",
            "6       BAN0332        0.142857\n",
            "7       SUR0166        0.134328\n",
            "8       JAK0124        0.125000\n",
            "9       YOG0449        0.120000 \n",
            "\n"
          ]
        },
        {
          "output_type": "display_data",
          "data": {
            "text/plain": [
              "<Figure size 1000x600 with 1 Axes>"
            ],
            "image/png": "[encoded data removed]"
          },
          "metadata": {}
        }
      ],
      "source": [
        "top_10_properties = df[['property_code', 'occupancy_rate']].drop_duplicates().sort_values(by='occupancy_rate', ascending=False).head(10).reset_index(drop=True)\n",
        "print(top_10_properties,'\\n')\n",
        "\n",
        "plt.figure(figsize=(10,6))\n",
        "sns.barplot(x='property_code', y='occupancy_rate',data=top_10_properties, palette='Blues',hue='occupancy_rate')\n",
        "plt.title('Top 10 Property')\n",
        "plt.xlabel('Property Code')\n",
        "plt.ylabel('Occupancy Rate')\n",
        "plt.xticks(rotation=45)\n",
        "plt.legend([], [], frameon=False)\n",
        "plt.show()"
      ]
    },
    {
      "cell_type": "code",
      "execution_count": null,
      "metadata": {
        "colab": {
          "base_uri": "https://localhost:8080/"
        },
        "id": "4btWRJGLtm0g",
        "outputId": "f14889b5-cc94-4a74-92a5-b6f32baeed27"
      },
      "outputs": [
        {
          "output_type": "stream",
          "name": "stdout",
          "text": [
            "property_code      JAK0304\n",
            "occupancy_rate        0.25\n",
            "city               Jakarta\n",
            "district             South\n",
            "brand_type        Koolkost\n",
            "inventory               36\n",
            "Name: 0, dtype: object\n"
          ]
        }
      ],
      "source": [
        "top_property = df[['property_code', 'occupancy_rate','city','district','brand_type','inventory']].drop_duplicates().sort_values(by='occupancy_rate', ascending=False).head(10).reset_index(drop=True)\n",
        "print(top_property.loc[0])"
      ]
    },
    {
      "cell_type": "markdown",
      "metadata": {
        "id": "nLvxkMu-CAm1"
      },
      "source": [
        "Kita bisa melihat bahwa untuk property dengan rate tertinggi ada pada property dengan kode JAK0304, dengan rate sebesar 0.250000. Property tersebut berada di kota Jakarta dengan brand type nya yaitu Koolkost adapun jumlah inventory dari property tersebut sebanyak 36"
      ]
    },
    {
      "cell_type": "code",
      "execution_count": null,
      "metadata": {
        "colab": {
          "base_uri": "https://localhost:8080/"
        },
        "id": "y5w8tabQAPwu",
        "outputId": "7bce4fc3-b0fb-4b95-a11a-271d4a65e74a"
      },
      "outputs": [
        {
          "output_type": "execute_result",
          "data": {
            "text/plain": [
              "1.0521750205043423e-05"
            ]
          },
          "metadata": {},
          "execution_count": 18
        }
      ],
      "source": [
        "# Menghitunga Korelasi Antara Occupancy Rate dengan Total Revenue Per Property\n",
        "correlation = df[['occupancy_rate', 'total_revenue_per_property']].corr().iloc[0, 1]\n",
        "correlation"
      ]
    },
    {
      "cell_type": "markdown",
      "metadata": {
        "id": "WVVrX78fCqqM"
      },
      "source": [
        "Setelah menghitung korelasi antara occupancy rate dengan total revenue per property didapatkan hasil sebesar 1.0521750205043423e-05 angka tersebut menunjukan bahwa tidak ada korelasi atau hubungn yang linear diantara dua variabel tersebut. Karena angka sebenarnya dari hasil tersebut adalah 0.00001"
      ]
    },
    {
      "cell_type": "code",
      "execution_count": null,
      "metadata": {
        "colab": {
          "base_uri": "https://localhost:8080/",
          "height": 564
        },
        "id": "4PBzrzFuAkv1",
        "outputId": "80a6e896-80a5-44b5-ec50-8159215d12af"
      },
      "outputs": [
        {
          "output_type": "display_data",
          "data": {
            "text/plain": [
              "<Figure size 1000x600 with 1 Axes>"
            ],
            "image/png": "[encoded data removed]"
          },
          "metadata": {}
        }
      ],
      "source": [
        "plt.figure(figsize=(10,6))\n",
        "sns.scatterplot(y='occupancy_rate',x='total_revenue_per_property',data=df)\n",
        "sns.regplot(y='occupancy_rate', x='total_revenue_per_property', data=df, scatter=False, color='red')\n",
        "plt.title('Hubungan Occupancy Rate & Total Revenue Per Property')\n",
        "plt.xlabel('Total Revenue Per Property')\n",
        "plt.ylabel('Occupancy Rate')\n",
        "plt.show()"
      ]
    },
    {
      "cell_type": "markdown",
      "metadata": {
        "id": "aNXhanYmEZbS"
      },
      "source": [
        "Begitupun jika di lihat dari scatterplot di atas menunjukan tidak ada hubungan yang linear antara occupancy rate dan Total revenue per property"
      ]
    },
    {
      "cell_type": "code",
      "source": [
        "df['total_revenue_per_property'].describe()"
      ],
      "metadata": {
        "id": "1swOnZ_dA_ls",
        "colab": {
          "base_uri": "https://localhost:8080/",
          "height": 335
        },
        "outputId": "04e08a0a-2552-4533-b2ee-b9e1d513fa2e"
      },
      "execution_count": null,
      "outputs": [
        {
          "output_type": "execute_result",
          "data": {
            "text/plain": [
              "count    100000.000000\n",
              "mean     406286.249498\n",
              "std       28517.157447\n",
              "min      327031.850000\n",
              "25%      386557.850000\n",
              "50%      406490.350000\n",
              "75%      426784.530000\n",
              "max      497060.780000\n",
              "Name: total_revenue_per_property, dtype: float64"
            ],
            "text/html": [
              "<div>\n",
              "<style scoped>\n",
              "    .dataframe tbody tr th:only-of-type {\n",
              "        vertical-align: middle;\n",
              "    }\n",
              "\n",
              "    .dataframe tbody tr th {\n",
              "        vertical-align: top;\n",
              "    }\n",
              "\n",
              "    .dataframe thead th {\n",
              "        text-align: right;\n",
              "    }\n",
              "</style>\n",
              "<table border=\"1\" class=\"dataframe\">\n",
              "  <thead>\n",
              "    <tr style=\"text-align: right;\">\n",
              "      <th></th>\n",
              "      <th>total_revenue_per_property</th>\n",
              "    </tr>\n",
              "  </thead>\n",
              "  <tbody>\n",
              "    <tr>\n",
              "      <th>count</th>\n",
              "      <td>100000.000000</td>\n",
              "    </tr>\n",
              "    <tr>\n",
              "      <th>mean</th>\n",
              "      <td>406286.249498</td>\n",
              "    </tr>\n",
              "    <tr>\n",
              "      <th>std</th>\n",
              "      <td>28517.157447</td>\n",
              "    </tr>\n",
              "    <tr>\n",
              "      <th>min</th>\n",
              "      <td>327031.850000</td>\n",
              "    </tr>\n",
              "    <tr>\n",
              "      <th>25%</th>\n",
              "      <td>386557.850000</td>\n",
              "    </tr>\n",
              "    <tr>\n",
              "      <th>50%</th>\n",
              "      <td>406490.350000</td>\n",
              "    </tr>\n",
              "    <tr>\n",
              "      <th>75%</th>\n",
              "      <td>426784.530000</td>\n",
              "    </tr>\n",
              "    <tr>\n",
              "      <th>max</th>\n",
              "      <td>497060.780000</td>\n",
              "    </tr>\n",
              "  </tbody>\n",
              "</table>\n",
              "</div><br><label><b>dtype:</b> float64</label>"
            ]
          },
          "metadata": {},
          "execution_count": 23
        }
      ]
    },
    {
      "cell_type": "code",
      "source": [
        "df['property_code'].count()"
      ],
      "metadata": {
        "colab": {
          "base_uri": "https://localhost:8080/"
        },
        "id": "B0d7-CZKeBDV",
        "outputId": "04106d40-a68b-46d0-efec-f377adfcd772"
      },
      "execution_count": null,
      "outputs": [
        {
          "output_type": "execute_result",
          "data": {
            "text/plain": [
              "100000"
            ]
          },
          "metadata": {},
          "execution_count": 22
        }
      ]
    },
    {
      "cell_type": "code",
      "source": [],
      "metadata": {
        "id": "dShMTmsieQuk"
      },
      "execution_count": null,
      "outputs": []
    }
  ],
  "metadata": {
    "colab": {
      "provenance": [],
      "mount_file_id": "1p31i7CB6NAiXR1fVTmIM4yuplO6dr0al",
      "authorship_tag": "ABX9TyOFGeJfGNd0EP9Ti7lnScSm",
      "include_colab_link": true
    },
    "kernelspec": {
      "display_name": "Python 3",
      "name": "python3"
    },
    "language_info": {
      "name": "python"
    }
  },
  "nbformat": 4,
  "nbformat_minor": 0
}